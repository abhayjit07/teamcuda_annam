{
  "nbformat": 4,
  "nbformat_minor": 0,
  "metadata": {
    "colab": {
      "provenance": []
    },
    "kernelspec": {
      "name": "python3",
      "display_name": "Python 3"
    },
    "language_info": {
      "name": "python"
    }
  },
  "cells": [
    {
      "cell_type": "code",
      "execution_count": null,
      "metadata": {
        "id": "JC7PPJTAgwWn"
      },
      "outputs": [],
      "source": [
        "# prediction.ipynb\n",
        "\n",
        "import os\n",
        "import numpy as np\n",
        "import pandas as pd\n",
        "from tqdm import tqdm\n",
        "from PIL import Image\n",
        "import torch\n",
        "from torchvision import transforms\n",
        "import joblib\n",
        "\n",
        "# Paths\n",
        "TEST_DIR = '/kaggle/input/soil-classification-part-2/soil_competition-2025/test'\n",
        "\n",
        "# Device and model\n",
        "device = torch.device(\"cuda\" if torch.cuda.is_available() else \"cpu\")\n",
        "model = torch.hub.load('facebookresearch/dinov2', 'dinov2_vits14').to(device)\n",
        "model.eval()\n",
        "\n",
        "transform = transforms.Compose([\n",
        "    transforms.Resize((224, 224)),\n",
        "    transforms.ToTensor(),\n",
        "    transforms.Normalize(mean=[0.485, 0.456, 0.406],\n",
        "                         std=[0.229, 0.224, 0.225])\n",
        "])\n",
        "\n",
        "def extract_dino_features(image_path):\n",
        "    img = Image.open(image_path).convert(\"RGB\")\n",
        "    img_tensor = transform(img).unsqueeze(0).to(device)\n",
        "    with torch.no_grad():\n",
        "        feat = model(img_tensor)\n",
        "    return feat.squeeze().cpu().numpy()\n",
        "\n",
        "# Load saved models\n",
        "svm = joblib.load('../src/models/svm_dinov2_vits14.pkl')\n",
        "scaler = joblib.load('../src/models/scaler_dinov2_vits14.pkl')\n",
        "\n",
        "# Gather test image paths\n",
        "test_fnames = os.listdir(TEST_DIR)\n",
        "test_paths = [os.path.join(TEST_DIR, fname) for fname in test_fnames]\n",
        "\n",
        "X_test = []\n",
        "valid_fnames = []\n",
        "\n",
        "print(\"Extracting features and predicting on test images...\")\n",
        "for path in tqdm(test_paths):\n",
        "    try:\n",
        "        feat = extract_dino_features(path)\n",
        "        X_test.append(feat)\n",
        "        valid_fnames.append(os.path.basename(path))\n",
        "    except Exception as e:\n",
        "        print(f\"Skipping {path}: {e}\")\n",
        "\n",
        "X_test = np.array(X_test)\n",
        "X_test_scaled = scaler.transform(X_test)\n",
        "\n",
        "preds = svm.predict(X_test_scaled)  # +1 = soil, -1 = non-soil\n",
        "labels = [1 if p == 1 else 0 for p in preds]\n",
        "\n",
        "# Save predictions\n",
        "output_df = pd.DataFrame({\n",
        "    'image_id': valid_fnames,\n",
        "    'label': labels\n",
        "})\n",
        "\n",
        "output_df.to_csv('submission_dinov2_vits14.csv', index=False)\n",
        "print(\"Predictions saved to submission_dinov2_vits14.csv\")\n",
        "\n"
      ]
    }
  ]
}