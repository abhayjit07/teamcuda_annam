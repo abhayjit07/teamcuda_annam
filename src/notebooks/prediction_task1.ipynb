{
  "nbformat": 4,
  "nbformat_minor": 0,
  "metadata": {
    "colab": {
      "provenance": []
    },
    "kernelspec": {
      "name": "python3",
      "display_name": "Python 3"
    },
    "language_info": {
      "name": "python"
    }
  },
  "cells": [
    {
      "cell_type": "code",
      "execution_count": null,
      "metadata": {
        "id": "JC7PPJTAgwWn"
      },
      "outputs": [],
      "source": [
        "# inference_densenet_soil.ipynb\n",
        "\n",
        "import os\n",
        "import numpy as np\n",
        "from PIL import Image\n",
        "import torch\n",
        "from torchvision import models, transforms\n",
        "import torch.nn as nn\n",
        "\n",
        "# --- Config ---\n",
        "IMAGE_SIZE = 224\n",
        "DEVICE = torch.device(\"cuda\" if torch.cuda.is_available() else \"cpu\")\n",
        "MODEL_PATH = 'densenet121_best_minf1.pth'\n",
        "LABELS_PATH = 'label_classes.npy'\n",
        "\n",
        "# --- Load label classes ---\n",
        "label_classes = np.load(LABELS_PATH, allow_pickle=True)\n",
        "num_classes = len(label_classes)\n",
        "\n",
        "# --- Image preprocessing ---\n",
        "transform = transforms.Compose([\n",
        "    transforms.Resize((IMAGE_SIZE, IMAGE_SIZE)),\n",
        "    transforms.ToTensor(),\n",
        "    transforms.Normalize(mean=[0.485, 0.456, 0.406],\n",
        "                         std=[0.229, 0.224, 0.225]),\n",
        "])\n",
        "\n",
        "# --- Model setup ---\n",
        "model = models.densenet121(pretrained=False)\n",
        "model.classifier = nn.Sequential(\n",
        "    nn.Linear(model.classifier.in_features, 256),\n",
        "    nn.ReLU(),\n",
        "    nn.Dropout(0.3),\n",
        "    nn.Linear(256, num_classes)\n",
        ")\n",
        "model.load_state_dict(torch.load(MODEL_PATH, map_location=DEVICE))\n",
        "model = model.to(DEVICE)\n",
        "model.eval()\n",
        "\n",
        "def predict_image(image_path):\n",
        "    image = Image.open(image_path).convert('RGB')\n",
        "    image = transform(image).unsqueeze(0).to(DEVICE)  # Add batch dimension\n",
        "    with torch.no_grad():\n",
        "        outputs = model(image)\n",
        "        probs = torch.softmax(outputs, dim=1).cpu().numpy()[0]\n",
        "        pred_idx = probs.argmax()\n",
        "        pred_label = label_classes[pred_idx]\n",
        "    return pred_label, probs\n",
        "\n",
        "# --- Example usage ---\n",
        "test_image_path = '/kaggle/input/soil-classification/soil_classification-2025/test/example.jpg'  # replace with your image path\n",
        "\n",
        "pred_label, pred_probs = predict_image(test_image_path)\n",
        "print(f\"Predicted soil type: {pred_label}\")\n",
        "print(f\"Class probabilities: {pred_probs}\")"
      ]
    }
  ]
}